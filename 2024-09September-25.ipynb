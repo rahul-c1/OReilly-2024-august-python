{
 "cells": [
  {
   "cell_type": "markdown",
   "id": "fdd25635-16a7-47d0-8409-c6d4644a466e",
   "metadata": {},
   "source": [
    "# Agenda, Week 5: Modules and packages\n",
    "\n",
    "1. Q&A\n",
    "2. What are modules?\n",
    "3. Using modules with `import`\n",
    "    - Different versions of `import` we can use\n",
    "4. How does Python find a module?\n",
    "5. Developing our own modules\n",
    "6. Python's standard library (i.e., the modules that comes with Python)\n",
    "7. PyPI and `pip` -- downloading and installing modules from the Internet\n",
    "8. What's next?\n"
   ]
  },
  {
   "cell_type": "markdown",
   "id": "420cd3b1-2a9f-4c17-a9c3-dc771c6c4a85",
   "metadata": {},
   "source": [
    "# What makes dicts so great?\n",
    "\n",
    "1. There are lots of places in programming where we can store our data as a key-value association.\n",
    "2. Searching (and retrieving) for a key in a dict is super fast.\n",
    "3. Many functions (and other data structures) know how to work with dicts.\n",
    "\n",
    "This doesn't mean that dicts should be used in place of anything/everything else! \n",
    "\n",
    "There are other data structures that are useful to know about, and which have their places:\n",
    "- Strings (for text)\n",
    "- Lists (for general storage)\n",
    "- Sets (sort of like the keys for dicts)\n",
    "- Variations on dicts (e.g., Counter and defaultdict)\n",
    "- Classes -- defining your own data structures"
   ]
  },
  {
   "cell_type": "code",
   "execution_count": null,
   "id": "269930a5-5bbc-42f7-a5db-93985ecc603c",
   "metadata": {},
   "outputs": [],
   "source": []
  }
 ],
 "metadata": {
  "kernelspec": {
   "display_name": "Python 3 (ipykernel)",
   "language": "python",
   "name": "python3"
  },
  "language_info": {
   "codemirror_mode": {
    "name": "ipython",
    "version": 3
   },
   "file_extension": ".py",
   "mimetype": "text/x-python",
   "name": "python",
   "nbconvert_exporter": "python",
   "pygments_lexer": "ipython3",
   "version": "3.12.5"
  },
  "widgets": {
   "application/vnd.jupyter.widget-state+json": {
    "state": {},
    "version_major": 2,
    "version_minor": 0
   }
  }
 },
 "nbformat": 4,
 "nbformat_minor": 5
}
