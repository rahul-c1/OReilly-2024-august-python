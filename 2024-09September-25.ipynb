{
 "cells": [
  {
   "cell_type": "markdown",
   "id": "fdd25635-16a7-47d0-8409-c6d4644a466e",
   "metadata": {},
   "source": [
    "# Agenda, Week 5: Modules and packages\n",
    "\n",
    "1. Q&A\n",
    "2. What are modules?\n",
    "3. Using modules with `import`\n",
    "    - Different versions of `import` we can use\n",
    "4. How does Python find a module?\n",
    "5. Developing our own modules\n",
    "6. Python's standard library (i.e., the modules that comes with Python)\n",
    "7. PyPI and `pip` -- downloading and installing modules from the Internet\n",
    "8. What's next?\n"
   ]
  },
  {
   "cell_type": "markdown",
   "id": "420cd3b1-2a9f-4c17-a9c3-dc771c6c4a85",
   "metadata": {},
   "source": [
    "# What makes dicts so great?\n",
    "\n",
    "1. There are lots of places in programming where we can store our data as a key-value association.\n",
    "2. Searching (and retrieving) for a key in a dict is super fast.\n",
    "3. Many functions (and other data structures) know how to work with dicts.\n",
    "\n",
    "This doesn't mean that dicts should be used in place of anything/everything else! \n",
    "\n",
    "There are other data structures that are useful to know about, and which have their places:\n",
    "- Strings (for text)\n",
    "- Lists (for general storage)\n",
    "- Sets (sort of like the keys for dicts)\n",
    "- Variations on dicts (e.g., Counter and defaultdict)\n",
    "- Classes -- defining your own data structures"
   ]
  },
  {
   "cell_type": "markdown",
   "id": "00ed7e7d-a6a2-43b9-ac79-3bc3faddb8b3",
   "metadata": {},
   "source": [
    "# Builtins\n",
    "\n",
    "Python has about 20-30 \"builtin\" names. We typically talk about them as functions, but many of them are not. Rather, many are classes, i.e., data structures:\n",
    "\n",
    "- `int`\n",
    "- `float`\n",
    "- `str`\n",
    "- `list`\n",
    "- `tuple`\n",
    "- `dict`\n",
    "- `set`\n",
    "\n",
    "Even though these are look and feel like functions, they aren't. By contrast, there are a bunch of functions:\n",
    "\n",
    "- `len`\n",
    "- `print`\n",
    "- `input`\n",
    "- `sum`\n",
    "\n",
    "Then we have some others that you could argue about whether they're classes or functions; we think of them as functions, but many (most? all?) are classes:\n",
    "\n",
    "- `range`\n",
    "\n",
    "At the end of the day, it doesn't really matter if they're functions or classes. In the end, you invoke them for a particular purpose."
   ]
  },
  {
   "cell_type": "markdown",
   "id": "b309c78e-7a46-4175-81f2-b8af79063102",
   "metadata": {},
   "source": [
    "# Modules (and packages)\n",
    "\n",
    "We've discussed the DRY (don't repeat yourself) rule in programming:\n",
    "\n",
    "1. If a line repeats iself, then we should use a loop instead of those repetitions.\n",
    "2. If the same code appears in several places in a program, we should put the code in a single place (a function) and then invoke the function whenever we want that functionality.\n",
    "3. If the same code appears in several different programs, then we put it in a single place (a \"library\") and then use that library any time we need the code.\n",
    "\n",
    "Every programming language (just about) supports libraries, because they are so useful.\n",
    "\n",
    "If we write some code and put it in a library, then we only need to update/improve/upgrade the code in a single place. Everyone who uses the library benefits from an automatic upgrade.\n",
    "\n",
    "In Python, we call our \"libraries\" modules, and they service *two* functions:\n",
    "\n",
    "1. We can store variables/functions/class definitions in a module, and then use the module whenever we need that functionality.\n",
    "2. They serve as namespaces, ensuring that if two different programmers, in two different files, use the same variable name, we won't have to worry about at clash between them.\n",
    "\n",
    "A module ensures that all of the variables defined inside of it have a separate \"last name,\" or \"namespace,\" to avoid collisions.\n",
    "\n"
   ]
  },
  {
   "cell_type": "markdown",
   "id": "6feb8ff0-3a99-433c-bfc6-e20960954a09",
   "metadata": {},
   "source": [
    "# How can we use a module?\n",
    "\n",
    "The `import` statement is how we tell Python that we want to load a module. Notice a few things about using `import`:\n",
    "\n",
    "1. It's not a function. It's a statement. No `()` are used with `import`.\n",
    "2. The argument that we give to it isn't a filename (a string). Rather, it's the name of the variable that will be defined/assigned when the module is loaded.\n",
    "\n",
    "This is like what we said when we defined functions:\n",
    "1. We define a function object\n",
    "2. We assign the function object to a variable, the function's name"
   ]
  },
  {
   "cell_type": "code",
   "execution_count": 1,
   "id": "f68d5dc0-b941-4797-95a5-1b5ce713b9e1",
   "metadata": {},
   "outputs": [],
   "source": [
    "import random"
   ]
  },
  {
   "cell_type": "code",
   "execution_count": 2,
   "id": "cf85b56f-fa6a-455e-a160-c532dbfcf2ff",
   "metadata": {},
   "outputs": [
    {
     "data": {
      "text/plain": [
       "module"
      ]
     },
     "execution_count": 2,
     "metadata": {},
     "output_type": "execute_result"
    }
   ],
   "source": [
    "type(random)  # what have we created?"
   ]
  },
  {
   "cell_type": "markdown",
   "id": "3c208114-51a4-477c-8ad6-d6cba5342bb8",
   "metadata": {},
   "source": [
    "# What do we do with a module object?\n",
    "\n",
    "Module objects are very simple: They are containers for other values. Once you've loaded a module into memory, you have access to all of the names defined on the module via `.`. If the module defines a variable `x`, then you refer to it as `random.x`. If the module defines a function called `y`, then you refer to it as `random.y`, and you call it as `random.y()`.\n",
    "\n",
    "You can get a list of the names (attributes) defined on any Python object, including a module, with `dir`.\n",
    "\n"
   ]
  },
  {
   "cell_type": "code",
   "execution_count": 3,
   "id": "5c08d720-5f47-49cd-9e54-928587ca7e3d",
   "metadata": {},
   "outputs": [
    {
     "data": {
      "text/plain": [
       "['BPF',\n",
       " 'LOG4',\n",
       " 'NV_MAGICCONST',\n",
       " 'RECIP_BPF',\n",
       " 'Random',\n",
       " 'SG_MAGICCONST',\n",
       " 'SystemRandom',\n",
       " 'TWOPI',\n",
       " '_ONE',\n",
       " '_Sequence',\n",
       " '__all__',\n",
       " '__builtins__',\n",
       " '__cached__',\n",
       " '__doc__',\n",
       " '__file__',\n",
       " '__loader__',\n",
       " '__name__',\n",
       " '__package__',\n",
       " '__spec__',\n",
       " '_accumulate',\n",
       " '_acos',\n",
       " '_bisect',\n",
       " '_ceil',\n",
       " '_cos',\n",
       " '_e',\n",
       " '_exp',\n",
       " '_fabs',\n",
       " '_floor',\n",
       " '_index',\n",
       " '_inst',\n",
       " '_isfinite',\n",
       " '_lgamma',\n",
       " '_log',\n",
       " '_log2',\n",
       " '_os',\n",
       " '_pi',\n",
       " '_random',\n",
       " '_repeat',\n",
       " '_sha512',\n",
       " '_sin',\n",
       " '_sqrt',\n",
       " '_test',\n",
       " '_test_generator',\n",
       " '_urandom',\n",
       " '_warn',\n",
       " 'betavariate',\n",
       " 'binomialvariate',\n",
       " 'choice',\n",
       " 'choices',\n",
       " 'expovariate',\n",
       " 'gammavariate',\n",
       " 'gauss',\n",
       " 'getrandbits',\n",
       " 'getstate',\n",
       " 'lognormvariate',\n",
       " 'normalvariate',\n",
       " 'paretovariate',\n",
       " 'randbytes',\n",
       " 'randint',\n",
       " 'random',\n",
       " 'randrange',\n",
       " 'sample',\n",
       " 'seed',\n",
       " 'setstate',\n",
       " 'shuffle',\n",
       " 'triangular',\n",
       " 'uniform',\n",
       " 'vonmisesvariate',\n",
       " 'weibullvariate']"
      ]
     },
     "execution_count": 3,
     "metadata": {},
     "output_type": "execute_result"
    }
   ],
   "source": [
    "dir(random)"
   ]
  },
  {
   "cell_type": "code",
   "execution_count": 4,
   "id": "b04b54b0-c980-4bf0-ae33-54a15912ba97",
   "metadata": {},
   "outputs": [
    {
     "data": {
      "text/plain": [
       "72"
      ]
     },
     "execution_count": 4,
     "metadata": {},
     "output_type": "execute_result"
    }
   ],
   "source": [
    "random.randint(0, 100)   # I get a random number from 0 to 100"
   ]
  },
  {
   "cell_type": "markdown",
   "id": "1fdb2e5a-458d-4569-bfb3-2ea42353f433",
   "metadata": {},
   "source": [
    "# Exercise: Number guessing game\n",
    "\n",
    "1. Generate a random integer between 0-100 with `random.randint(0, 100)`.\n",
    "2. Repeatedly ask the user to guess the number.\n",
    "    - If they guess right, then congratulate them and exit the program.\n",
    "    - If they are too low, then tell them and ask them to try again\n",
    "    - If they are too high, then tell them and ask them to try again.\n",
    "3. If the user enters a non-numeric value, scold them.\n",
    "\n",
    "Example:\n",
    "\n",
    "    Guess: 50\n",
    "    50 is too low, try again\n",
    "    Guess: 90\n",
    "    90 is too high, try again\n",
    "    Guess: 81\n",
    "    You got it!\n",
    "\n"
   ]
  },
  {
   "cell_type": "code",
   "execution_count": 5,
   "id": "0a077123-a6df-4fae-9bc9-c98e6b703928",
   "metadata": {},
   "outputs": [
    {
     "name": "stdin",
     "output_type": "stream",
     "text": [
      "Guess:  50\n"
     ]
    },
    {
     "name": "stdout",
     "output_type": "stream",
     "text": [
      "Too high!\n"
     ]
    },
    {
     "name": "stdin",
     "output_type": "stream",
     "text": [
      "Guess:  25\n"
     ]
    },
    {
     "name": "stdout",
     "output_type": "stream",
     "text": [
      "Too low!\n"
     ]
    },
    {
     "name": "stdin",
     "output_type": "stream",
     "text": [
      "Guess:  32\n"
     ]
    },
    {
     "name": "stdout",
     "output_type": "stream",
     "text": [
      "Too low!\n"
     ]
    },
    {
     "name": "stdin",
     "output_type": "stream",
     "text": [
      "Guess:  38\n"
     ]
    },
    {
     "name": "stdout",
     "output_type": "stream",
     "text": [
      "Too low!\n"
     ]
    },
    {
     "name": "stdin",
     "output_type": "stream",
     "text": [
      "Guess:  42\n"
     ]
    },
    {
     "name": "stdout",
     "output_type": "stream",
     "text": [
      "You got it!\n"
     ]
    }
   ],
   "source": [
    "import random     \n",
    "\n",
    "number = random.randint(0, 100)   # get a random number\n",
    "\n",
    "while True:\n",
    "    s = input('Guess: ').strip()\n",
    "\n",
    "    if not s.isdigit():\n",
    "        print(f'{s} is not numeric; try again')\n",
    "        continue\n",
    "\n",
    "    n = int(s)   # get an integer from the user's input\n",
    "    if n == number:\n",
    "        print(f'You got it!')\n",
    "        break\n",
    "    elif n < number:\n",
    "        print('Too low!')\n",
    "    else:\n",
    "        print('Too high!')\n",
    "        "
   ]
  },
  {
   "cell_type": "code",
   "execution_count": null,
   "id": "6d19c3b8-e6e9-42f5-b5c1-90483519a061",
   "metadata": {},
   "outputs": [],
   "source": [
    "# SS\n",
    "\n",
    "num = random.randint(0,100)\n",
    "\n",
    "while True:\n",
    "  print('Welcome to number guess game!\\n')\n",
    "  print('Please choose the number between 1 to 99!\\n')\n",
    "  user = int(input('Guess the number i am thinking of: '))\n",
    "  if user > 0 & user < 100:\n",
    "    if user == num:\n",
    "      print(f'Congrats you guessed{user} and i guessed{num}')\n",
    "    elif user > num:\n",
    "        print(f'You guessed {user} and i guessed {num} which is too high! please try again!')\n",
    "    elif user < num:\n",
    "      print(f'You guessed {user} and i guessed {num} which is too low! please try again!')\n",
    "  else:\n",
    "    print('Please choose the number between 1 and 99')  "
   ]
  },
  {
   "cell_type": "code",
   "execution_count": null,
   "id": "f85004bd-33a0-4bf4-90d2-96029f48989a",
   "metadata": {},
   "outputs": [],
   "source": [
    "# AR \n",
    "\n",
    "import random\n",
    "\n",
    "mynumber=random.randint(0,100)\n",
    "\n",
    "#print(mynumber)\n",
    "while True:\n",
    "     guess=input(f'Please enter a guess:')\n",
    "     if guess.isdigit():\n",
    "         if int(guess) > mynumber:\n",
    "            print(f'Guess is too high')\n",
    "         elif int(guess) < mynumber:\n",
    "            print(f'Guess is too low')\n",
    "         else:\n",
    "             print('Bingo')\n",
    "     else:\n",
    "         print('you have not entered a number!')"
   ]
  },
  {
   "cell_type": "code",
   "execution_count": null,
   "id": "b27c7b07-0e77-4306-b1e8-37a4faf238e6",
   "metadata": {},
   "outputs": [],
   "source": [
    "# GK\n",
    "\n",
    "import random\n",
    "x_number = random.randint(0, 100)\n",
    "print(\"You'll guess a number between 0 and 100\")\n",
    "\n",
    "while True:\n",
    "    guess = input(\"Guess: \").strip()\n",
    "    if not guess.isdigit():\n",
    "        print(f\"{guess} is not a number\")\n",
    "    else:\n",
    "        guess = int(guess)\n",
    "        if guess==x_number:\n",
    "            print(f\"You rock! {guess} is the right number!\")\n",
    "            break\n",
    "        elif guess<=x_number:\n",
    "            print(f\"{guess} is too low, try again!\")\n",
    "        else:\n",
    "            print(f\"{guess} is too high, try again!\")"
   ]
  },
  {
   "cell_type": "markdown",
   "id": "8e6db834-cf76-455b-b4c6-5c993e7d7d51",
   "metadata": {},
   "source": [
    "# Importing modules\n",
    "\n",
    "It is standard, easy, and common for us to use `import` at the top of a Python program to load one or more modules. If you have to use five modules in your program, that's great -- that is code you won't have to write, debug, or optimize.\n",
    "\n",
    "How does importing work?\n",
    "\n",
    "In many other programming languages, when we want to do the equivalent of importing a module, we give it a filename. That's not the case in Python; the argument that we give to `import` is the name of the variable we want to define. There isn't any way for us to specify that Python needs to load a particular file.\n",
    "\n",
    "- We give Python the name of the variable that the module will be assigned to. Let's choose `random`.\n",
    "- Python looks in a variety of directories for a file called `random.py`.\n",
    "- If it cannot find such a file in any directory, it gives up and raises an `ImportError` exception.\n",
    "\n",
    "This raises the question of where Python is searching. It's in all of the directories of `sys.path`. This is a list of strings telling Python where to search. "
   ]
  },
  {
   "cell_type": "code",
   "execution_count": 6,
   "id": "a1042413-cfee-4849-bbba-2dc2f4f08928",
   "metadata": {},
   "outputs": [
    {
     "data": {
      "text/plain": [
       "['/Users/reuven/.pyenv/versions/3.12.5/lib/python312.zip',\n",
       " '/Users/reuven/.pyenv/versions/3.12.5/lib/python3.12',\n",
       " '/Users/reuven/.pyenv/versions/3.12.5/lib/python3.12/lib-dynload',\n",
       " '',\n",
       " '/Users/reuven/.pyenv/versions/3.12.5/lib/python3.12/site-packages']"
      ]
     },
     "execution_count": 6,
     "metadata": {},
     "output_type": "execute_result"
    }
   ],
   "source": [
    "import sys   # sys is always loaded, but the variable isn't always defined, so we have to import it\n",
    "\n",
    "# The first place we look is always the current directory. Then we go through the standard library.\n",
    "\n",
    "sys.path"
   ]
  },
  {
   "cell_type": "code",
   "execution_count": 7,
   "id": "3bd821fd-d52f-4285-9b1f-b7d4a526f686",
   "metadata": {},
   "outputs": [
    {
     "data": {
      "text/plain": [
       "<module 'random' from '/Users/reuven/.pyenv/versions/3.12.5/lib/python3.12/random.py'>"
      ]
     },
     "execution_count": 7,
     "metadata": {},
     "output_type": "execute_result"
    }
   ],
   "source": [
    "# if I ask random where it's from\n",
    "\n",
    "random"
   ]
  },
  {
   "cell_type": "markdown",
   "id": "18368506-f466-4bd3-abf6-d0f6a8e1c328",
   "metadata": {},
   "source": [
    "# If you really want to add a new directory to `sys.path`\n",
    "\n",
    "Add an environment variable, `PYTHONPATH`, with or more directories that you want added to `sys.path`, and Python will do that."
   ]
  },
  {
   "cell_type": "markdown",
   "id": "b9273959-7735-474e-9ab4-7ab793520cc6",
   "metadata": {},
   "source": [
    "# What about `randint`?\n",
    "\n",
    "If I'm going to use `randint` a lot in my program, it's annoying to have to always say `random.randint`. Can I just drop the `random.` at the start?"
   ]
  },
  {
   "cell_type": "code",
   "execution_count": 8,
   "id": "53e105c9-611a-4011-94fe-093f4eeb125c",
   "metadata": {},
   "outputs": [
    {
     "ename": "NameError",
     "evalue": "name 'randint' is not defined",
     "output_type": "error",
     "traceback": [
      "\u001b[0;31m---------------------------------------------------------------------------\u001b[0m",
      "\u001b[0;31mNameError\u001b[0m                                 Traceback (most recent call last)",
      "Cell \u001b[0;32mIn[8], line 1\u001b[0m\n\u001b[0;32m----> 1\u001b[0m \u001b[43mrandint\u001b[49m(\u001b[38;5;241m0\u001b[39m, \u001b[38;5;241m100\u001b[39m)\n",
      "\u001b[0;31mNameError\u001b[0m: name 'randint' is not defined"
     ]
    }
   ],
   "source": [
    "randint(0, 100)"
   ]
  },
  {
   "cell_type": "markdown",
   "id": "37bc255d-628f-4fcb-bd74-e143c646de9e",
   "metadata": {},
   "source": [
    "# Sometimes it's useful\n",
    "\n",
    "In many cases, we don't feel like stating the module name *every* time we want to invoke a method in the module. For that, we have an alternative version of `import` called `from .. import`.\n",
    "\n",
    "We can say\n",
    "\n",
    "```python\n",
    "from random import randint\n",
    "```\n",
    "\n",
    "## What does happen:\n",
    "\n",
    "1. If it hasn't loaded, then the entire `random` module is loaded into memory.\n",
    "2. The `random` variable isn't defined.\n",
    "3. The point of doing this is to have more obviously expressive programs, not to save memory or execution.\n",
    "4. If the `random` module was already loaded, then we don't need to reload it. Python caches the modules that it loads, so that we don't have to reload them in a given session.\n"
   ]
  },
  {
   "cell_type": "markdown",
   "id": "714d2272-8bd2-42d9-874b-cd0ca044fd6a",
   "metadata": {},
   "source": [
    "# Exercise: Choose n\n",
    "\n",
    "1. Ask the user to enter a text string, `text`.\n",
    "2. Ask the user to enter an integer, `n`.\n",
    "3. Print `n` randomly selected characters from `text`, printing the index and the letter with each.\n",
    "4. To do this, you'll want to repeateldy invoke `random.randint` with the min being 0 and the max, `len(text) - 1`.\n",
    "5. Use `randint` as a standalone function, thanks to `from .. import`."
   ]
  },
  {
   "cell_type": "code",
   "execution_count": 11,
   "id": "e72530bd-fefe-42e2-89fe-2c49c1ebe693",
   "metadata": {},
   "outputs": [
    {
     "name": "stdin",
     "output_type": "stream",
     "text": [
      "Enter text:  hello to everyone out there\n",
      "Enter times:  4\n"
     ]
    },
    {
     "name": "stdout",
     "output_type": "stream",
     "text": [
      "text[6] is \"t\"\n",
      "text[25] is \"r\"\n",
      "text[6] is \"t\"\n",
      "text[22] is \"t\"\n"
     ]
    }
   ],
   "source": [
    "from random import randint\n",
    "\n",
    "text = input('Enter text: ').strip()\n",
    "n = int(input('Enter times: ').strip())\n",
    "\n",
    "for counter in range(n):\n",
    "    index = randint(0, len(text)-1)\n",
    "    print(f'text[{index}] is \"{text[index]}\"')"
   ]
  },
  {
   "cell_type": "code",
   "execution_count": 12,
   "id": "bdfd8a2b-aca7-4ccb-9d9c-3ce13dc30a38",
   "metadata": {},
   "outputs": [
    {
     "name": "stdin",
     "output_type": "stream",
     "text": [
      "Enter a text string: hello to everyone out there\n",
      "Enter a number:  4\n"
     ]
    },
    {
     "name": "stdout",
     "output_type": "stream",
     "text": [
      "r\n",
      "t\n",
      "t\n",
      "l\n"
     ]
    }
   ],
   "source": [
    "# MP\n",
    "from random import randint\n",
    "\n",
    "def valid_int_input(message, error_message):\n",
    "    while True:\n",
    "        try:\n",
    "            return int(input(message))\n",
    "        except ValueError:\n",
    "            print(error_message)\n",
    "            \n",
    "text = input(\"Enter a text string:\")\n",
    "number = valid_int_input(\"Enter a number: \",\"Invalid input. Please enter an integer.\")\n",
    "\n",
    "for i in range(number):\n",
    "    random_number = randint(0, len(text))\n",
    "    print(text[random_number])"
   ]
  },
  {
   "cell_type": "code",
   "execution_count": null,
   "id": "8a3ea55c-29c5-4b68-b32a-57af139dcaf5",
   "metadata": {},
   "outputs": [],
   "source": [
    "# GK\n",
    "\n",
    "from random import randint\n",
    "txt = input('Text: ').strip()\n",
    "nb = input('n: ').strip()\n",
    "if nb.isdigit():\n",
    "    nb = int(nb)\n",
    "    for i in range(nb):\n",
    "        position = randint(0, len(txt)-1)\n",
    "        print(f\"{position}: {txt[position]}\")"
   ]
  },
  {
   "cell_type": "markdown",
   "id": "c578221d-4260-4302-b94e-2ac044280e55",
   "metadata": {},
   "source": [
    "# Next up\n",
    "\n",
    "1. More variations on `import`\n",
    "2. Writing our own module -- how do we do that?\n"
   ]
  },
  {
   "cell_type": "markdown",
   "id": "f461c302-642b-42df-afc4-e9a96104d358",
   "metadata": {},
   "source": [
    "# `import` vs. `from .. import`\n",
    "\n",
    "There's a good argument for always using `import`:\n",
    "\n",
    "- It uses the same memory\n",
    "- It reduces ambiguity about where the `import` came from\n",
    "\n",
    "But it's really convenient (sometimes) to be able to type less. \n",
    "\n",
    "My general take is: Don't use `from .. import` too much. It's definitely OK if you're dealing with a deep hierarchy of modules, and just want to refer to something buried deep in there."
   ]
  },
  {
   "cell_type": "markdown",
   "id": "adc52459-4160-46f5-ab2d-a49481d6a06d",
   "metadata": {},
   "source": [
    "# More variations on `import`\n",
    "\n",
    "- `import MOD`\n",
    "- `import MOD as ALIAS` -- here, we still import the module as usual, but instead of defining the variable `MOD`, we define the variable `ALIAS`\n",
    "- `from MOD import NAME`\n",
    "- `from MOD import NAME as ALIAS` -- here, we import the full module, but we only define a single variable. In this case, the variable gets the name `ALIAS`, whereas in the original module, it was known as `NAME`.\n",
    "- `from MOD import *` -- this imports all of the names in the module into the current namespace as variables. **PLEASE NEVER USE THIS!**"
   ]
  },
  {
   "cell_type": "markdown",
   "id": "8fe2cba1-9834-47a0-8dda-e4b545b36f03",
   "metadata": {},
   "source": [
    "Why use `import MOD as ALIAS`?\n",
    "\n",
    "- Everyone is using the same alias\n",
    "- It's just shorter/easier to write\n",
    "\n"
   ]
  },
  {
   "cell_type": "code",
   "execution_count": 13,
   "id": "753397a1-dd2d-48fa-8462-86bcc66552a4",
   "metadata": {},
   "outputs": [],
   "source": [
    "import random as r"
   ]
  },
  {
   "cell_type": "code",
   "execution_count": 14,
   "id": "c090fac5-d6ce-4572-b187-54140be0225e",
   "metadata": {},
   "outputs": [
    {
     "data": {
      "text/plain": [
       "97"
      ]
     },
     "execution_count": 14,
     "metadata": {},
     "output_type": "execute_result"
    }
   ],
   "source": [
    "r.randint(0, 100)  # now, r is the same as random, both names for the same object"
   ]
  },
  {
   "cell_type": "markdown",
   "id": "5e0de32f-8b27-4d8c-82b6-d69e2f4e58fd",
   "metadata": {},
   "source": [
    "# Writing our own module\n",
    "\n",
    "A Python module is:\n",
    "\n",
    "- A file\n",
    "- Containing Python code (normally, variable and function definitions)\n",
    "- Ending with `.py`\n",
    "- In one of the directories in `sys.path` -- we will put modules in the same directory as we're running Jupyter\n",
    "\n"
   ]
  },
  {
   "cell_type": "code",
   "execution_count": 15,
   "id": "92339cce-e804-44d0-bebe-cdbe91181886",
   "metadata": {},
   "outputs": [],
   "source": [
    "import mymod "
   ]
  },
  {
   "cell_type": "code",
   "execution_count": 16,
   "id": "dece7744-725e-454c-97c5-43e60de522e0",
   "metadata": {},
   "outputs": [
    {
     "data": {
      "text/plain": [
       "module"
      ]
     },
     "execution_count": 16,
     "metadata": {},
     "output_type": "execute_result"
    }
   ],
   "source": [
    "type(mymod)"
   ]
  },
  {
   "cell_type": "code",
   "execution_count": 17,
   "id": "9a914581-b9b0-4b1d-b16f-6b00e51281d2",
   "metadata": {},
   "outputs": [
    {
     "data": {
      "text/plain": [
       "['__builtins__',\n",
       " '__cached__',\n",
       " '__doc__',\n",
       " '__file__',\n",
       " '__loader__',\n",
       " '__name__',\n",
       " '__package__',\n",
       " '__spec__']"
      ]
     },
     "execution_count": 17,
     "metadata": {},
     "output_type": "execute_result"
    }
   ],
   "source": [
    "dir(mymod)"
   ]
  },
  {
   "cell_type": "code",
   "execution_count": 18,
   "id": "e9e24624-829e-4e3a-ad3d-3ee31d12baf6",
   "metadata": {},
   "outputs": [
    {
     "data": {
      "text/plain": [
       "'/Users/reuven/Courses/Current/OReilly-2024-august-python/mymod.py'"
      ]
     },
     "execution_count": 18,
     "metadata": {},
     "output_type": "execute_result"
    }
   ],
   "source": [
    "mymod.__file__"
   ]
  },
  {
   "cell_type": "code",
   "execution_count": 19,
   "id": "fb444fc7-407a-4563-af0b-9049cd832dd3",
   "metadata": {},
   "outputs": [
    {
     "data": {
      "text/plain": [
       "'mymod'"
      ]
     },
     "execution_count": 19,
     "metadata": {},
     "output_type": "execute_result"
    }
   ],
   "source": [
    "mymod.__name__"
   ]
  },
  {
   "cell_type": "code",
   "execution_count": 20,
   "id": "630dc686-28b3-44c3-b23f-ddbc044a2690",
   "metadata": {},
   "outputs": [
    {
     "data": {
      "text/plain": [
       "['__builtins__',\n",
       " '__cached__',\n",
       " '__doc__',\n",
       " '__file__',\n",
       " '__loader__',\n",
       " '__name__',\n",
       " '__package__',\n",
       " '__spec__']"
      ]
     },
     "execution_count": 20,
     "metadata": {},
     "output_type": "execute_result"
    }
   ],
   "source": [
    "import mymod  # after defining some things in it\n",
    "\n",
    "dir(mymod)"
   ]
  },
  {
   "cell_type": "markdown",
   "id": "ccbf6bde-56c8-4f6c-be89-466b832a57dc",
   "metadata": {},
   "source": [
    "# Caching modules\n",
    "\n",
    "When we `import` a module the first time, it is actually loaded. The second and subsequent times, it isn't loaded; we just use the version that was cached.  \n",
    "\n",
    "If we're in a regular Python program, that's fine! But in Jupyter/debugger, this is very bad. \n",
    "\n",
    "We will need Python's help to reload our module. How? We'll use the `importlib` module's `reload` function."
   ]
  },
  {
   "cell_type": "code",
   "execution_count": 21,
   "id": "de353a66-becd-46f3-9a30-791900cd0144",
   "metadata": {},
   "outputs": [
    {
     "data": {
      "text/plain": [
       "<module 'mymod' from '/Users/reuven/Courses/Current/OReilly-2024-august-python/mymod.py'>"
      ]
     },
     "execution_count": 21,
     "metadata": {},
     "output_type": "execute_result"
    }
   ],
   "source": [
    "import importlib\n",
    "importlib.reload(mymod)  # this forces a reload, so that we get the latest version"
   ]
  },
  {
   "cell_type": "code",
   "execution_count": 22,
   "id": "ac44ae87-4cce-4c37-b267-3cbcdcbafd02",
   "metadata": {},
   "outputs": [
    {
     "data": {
      "text/plain": [
       "['__builtins__',\n",
       " '__cached__',\n",
       " '__doc__',\n",
       " '__file__',\n",
       " '__loader__',\n",
       " '__name__',\n",
       " '__package__',\n",
       " '__spec__',\n",
       " 'hello',\n",
       " 'x',\n",
       " 'y']"
      ]
     },
     "execution_count": 22,
     "metadata": {},
     "output_type": "execute_result"
    }
   ],
   "source": [
    "dir(mymod)"
   ]
  },
  {
   "cell_type": "code",
   "execution_count": 23,
   "id": "a3ee2a04-f020-4009-b582-71462428f9b6",
   "metadata": {},
   "outputs": [
    {
     "data": {
      "text/plain": [
       "100"
      ]
     },
     "execution_count": 23,
     "metadata": {},
     "output_type": "execute_result"
    }
   ],
   "source": [
    "mymod.x"
   ]
  },
  {
   "cell_type": "code",
   "execution_count": 24,
   "id": "c455ce00-c9e4-4bfa-bae4-5ced5923f99d",
   "metadata": {},
   "outputs": [
    {
     "data": {
      "text/plain": [
       "[10, 20, 30]"
      ]
     },
     "execution_count": 24,
     "metadata": {},
     "output_type": "execute_result"
    }
   ],
   "source": [
    "mymod.y"
   ]
  },
  {
   "cell_type": "code",
   "execution_count": 25,
   "id": "3e219ccc-5fd0-412f-90aa-dbbadffd66e1",
   "metadata": {},
   "outputs": [
    {
     "data": {
      "text/plain": [
       "'Hello, world!'"
      ]
     },
     "execution_count": 25,
     "metadata": {},
     "output_type": "execute_result"
    }
   ],
   "source": [
    "mymod.hello('world')"
   ]
  },
  {
   "cell_type": "markdown",
   "id": "4860f1bf-95f9-40da-aec3-e309dfe7cacf",
   "metadata": {},
   "source": [
    "# Exercise: `menu` module\n",
    "\n",
    "1. Write a function that asks the user for their name and returns a greeting with the name.\n",
    "2. This function should be in the `menu` module that you are now going to create.\n",
    "3. From outside of the module, you should be able to write\n",
    "\n",
    "```python\n",
    "import menu\n",
    "print(menu.greet('Reuven'))\n",
    "```"
   ]
  },
  {
   "cell_type": "code",
   "execution_count": 27,
   "id": "475e5c94-2b73-4f66-a794-3371d19078c1",
   "metadata": {},
   "outputs": [
    {
     "name": "stdout",
     "output_type": "stream",
     "text": [
      "Hello, Reuven!\n"
     ]
    }
   ],
   "source": [
    "importlib.reload(menu)\n",
    "print(menu.greet('Reuven'))\n"
   ]
  },
  {
   "cell_type": "markdown",
   "id": "a27da449-1203-4475-824a-c891ebb41513",
   "metadata": {},
   "source": [
    "# Exercise: `menu.menu`\n",
    "\n",
    "It's very common for Python modules to have the same name as the most commonly used function in them. When we say `menu.menu`, that means the function `menu` inside of the module `menu.py`.\n",
    "\n",
    "I want you write a function that will be useful in any program that needs to get restricted input from the user. That is: We know that we want the user to enter `a`, `b` or `c` (or some other set of strings). \n",
    "\n",
    "1. Write a function, `menu.menu` that takes a list of strings.\n",
    "2. The function will present the list of strings to the user.\n",
    "3. If the user enters one of the mentioned strings, that string is returned to the caller.\n",
    "4. If the user enters an illegal string, then they are scolded and get another chance.\n",
    "\n",
    "```python\n",
    "import menu\n",
    "\n",
    "user_choice = menu.menu(['a', 'b', 'c'])\n",
    "```"
   ]
  },
  {
   "cell_type": "code",
   "execution_count": 28,
   "id": "736f3cd4-7971-4316-83e3-3fc136789927",
   "metadata": {},
   "outputs": [
    {
     "data": {
      "text/plain": [
       "<module 'menu' from '/Users/reuven/Courses/Current/OReilly-2024-august-python/menu.py'>"
      ]
     },
     "execution_count": 28,
     "metadata": {},
     "output_type": "execute_result"
    }
   ],
   "source": [
    "importlib.reload(menu)"
   ]
  },
  {
   "cell_type": "code",
   "execution_count": 29,
   "id": "64e7debb-ebe5-443a-9f43-3429c125af0e",
   "metadata": {},
   "outputs": [
    {
     "name": "stdin",
     "output_type": "stream",
     "text": [
      "Enter your choice ['a', 'b', 'c']:  q\n"
     ]
    },
    {
     "name": "stdout",
     "output_type": "stream",
     "text": [
      "Invalid option q; try again\n"
     ]
    },
    {
     "name": "stdin",
     "output_type": "stream",
     "text": [
      "Enter your choice ['a', 'b', 'c']:  b\n"
     ]
    },
    {
     "data": {
      "text/plain": [
       "'b'"
      ]
     },
     "execution_count": 29,
     "metadata": {},
     "output_type": "execute_result"
    }
   ],
   "source": [
    "menu.menu(['a', 'b', 'c'])"
   ]
  },
  {
   "cell_type": "code",
   "execution_count": null,
   "id": "d05cb47d-2248-42b9-90e1-73dfc1aafd26",
   "metadata": {},
   "outputs": [],
   "source": [
    "# SS\n",
    "\n",
    "def app(hitlist):\n",
    "    for hl in hitlist:\n",
    "        if hl in [\"a\", \"b\", \"c\"]:\n",
    "            return hl\n",
    "        else:\n",
    "            print(\"Please enter valid value\")"
   ]
  },
  {
   "cell_type": "code",
   "execution_count": null,
   "id": "c49b64b7-deab-4d4f-9ffd-54ce5d124402",
   "metadata": {},
   "outputs": [],
   "source": [
    "# GK\n",
    "\n",
    "def menu(list_strings):\n",
    "    while True:\n",
    "        choice = input(\"Choice :\").strip()\n",
    "        if choice in list_strings:\n",
    "            return choice\n",
    "        else:\n",
    "            print(\"Not a valid choice\")"
   ]
  },
  {
   "cell_type": "markdown",
   "id": "344ee594-5eae-4720-b194-df8535c254e2",
   "metadata": {},
   "source": [
    "# What happens "
   ]
  }
 ],
 "metadata": {
  "kernelspec": {
   "display_name": "Python 3 (ipykernel)",
   "language": "python",
   "name": "python3"
  },
  "language_info": {
   "codemirror_mode": {
    "name": "ipython",
    "version": 3
   },
   "file_extension": ".py",
   "mimetype": "text/x-python",
   "name": "python",
   "nbconvert_exporter": "python",
   "pygments_lexer": "ipython3",
   "version": "3.12.5"
  },
  "widgets": {
   "application/vnd.jupyter.widget-state+json": {
    "state": {},
    "version_major": 2,
    "version_minor": 0
   }
  }
 },
 "nbformat": 4,
 "nbformat_minor": 5
}
