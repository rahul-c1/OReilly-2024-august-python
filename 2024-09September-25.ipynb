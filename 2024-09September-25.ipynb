{
 "cells": [
  {
   "cell_type": "markdown",
   "id": "fdd25635-16a7-47d0-8409-c6d4644a466e",
   "metadata": {},
   "source": [
    "# Agenda, Week 5: Modules and packages\n",
    "\n",
    "1. Q&A\n",
    "2. What are modules?\n",
    "3. Using modules with `import`\n",
    "    - Different versions of `import` we can use\n",
    "4. How does Python find a module?\n",
    "5. Developing our own modules\n",
    "6. Python's standard library (i.e., the modules that comes with Python)\n",
    "7. PyPI and `pip` -- downloading and installing modules from the Internet\n",
    "8. What's next?\n"
   ]
  },
  {
   "cell_type": "markdown",
   "id": "420cd3b1-2a9f-4c17-a9c3-dc771c6c4a85",
   "metadata": {},
   "source": [
    "# What makes dicts so great?\n",
    "\n",
    "1. There are lots of places in programming where we can store our data as a key-value association.\n",
    "2. Searching (and retrieving) for a key in a dict is super fast.\n",
    "3. Many functions (and other data structures) know how to work with dicts.\n",
    "\n",
    "This doesn't mean that dicts should be used in place of anything/everything else! \n",
    "\n",
    "There are other data structures that are useful to know about, and which have their places:\n",
    "- Strings (for text)\n",
    "- Lists (for general storage)\n",
    "- Sets (sort of like the keys for dicts)\n",
    "- Variations on dicts (e.g., Counter and defaultdict)\n",
    "- Classes -- defining your own data structures"
   ]
  },
  {
   "cell_type": "markdown",
   "id": "00ed7e7d-a6a2-43b9-ac79-3bc3faddb8b3",
   "metadata": {},
   "source": [
    "# Builtins\n",
    "\n",
    "Python has about 20-30 \"builtin\" names. We typically talk about them as functions, but many of them are not. Rather, many are classes, i.e., data structures:\n",
    "\n",
    "- `int`\n",
    "- `float`\n",
    "- `str`\n",
    "- `list`\n",
    "- `tuple`\n",
    "- `dict`\n",
    "- `set`\n",
    "\n",
    "Even though these are look and feel like functions, they aren't. By contrast, there are a bunch of functions:\n",
    "\n",
    "- `len`\n",
    "- `print`\n",
    "- `input`\n",
    "- `sum`\n",
    "\n",
    "Then we have some others that you could argue about whether they're classes or functions; we think of them as functions, but many (most? all?) are classes:\n",
    "\n",
    "- `range`\n",
    "\n",
    "At the end of the day, it doesn't really matter if they're functions or classes. In the end, you invoke them for a particular purpose."
   ]
  },
  {
   "cell_type": "markdown",
   "id": "b309c78e-7a46-4175-81f2-b8af79063102",
   "metadata": {},
   "source": [
    "# Modules (and packages)\n",
    "\n",
    "We've discussed the DRY (don't repeat yourself) rule in programming:\n",
    "\n",
    "1. If a line repeats iself, then we should use a loop instead of those repetitions.\n",
    "2. If the same code appears in several places in a program, we should put the code in a single place (a function) and then invoke the function whenever we want that functionality.\n",
    "3. If the same code appears in several different programs, then we put it in a single place (a \"library\") and then use that library any time we need the code.\n",
    "\n",
    "Every programming language (just about) supports libraries, because they are so useful.\n",
    "\n",
    "If we write some code and put it in a library, then we only need to update/improve/upgrade the code in a single place. Everyone who uses the library benefits from an automatic upgrade.\n",
    "\n",
    "In Python, we call our \"libraries\" modules, and they service *two* functions:\n",
    "\n",
    "1. We can store variables/functions/class definitions in a module, and then use the module whenever we need that functionality.\n",
    "2. They serve as namespaces, ensuring that if two different programmers, in two different files, use the same variable name, we won't have to worry about at clash between them.\n",
    "\n",
    "A module ensures that all of the variables defined inside of it have a separate \"last name,\" or \"namespace,\" to avoid collisions.\n",
    "\n"
   ]
  },
  {
   "cell_type": "markdown",
   "id": "6feb8ff0-3a99-433c-bfc6-e20960954a09",
   "metadata": {},
   "source": [
    "# How can we use a module?\n",
    "\n",
    "The `import` statement is how we tell Python that we want to load a module. Notice a few things about using `import`:\n",
    "\n",
    "1. It's not a function. It's a statement. No `()` are used with `import`.\n",
    "2. The argument that we give to it isn't a filename (a string). Rather, it's the name of the variable that will be defined/assigned when the module is loaded.\n",
    "\n",
    "This is like what we said when we defined functions:\n",
    "1. We define a function object\n",
    "2. We assign the function object to a variable"
   ]
  },
  {
   "cell_type": "code",
   "execution_count": null,
   "id": "f68d5dc0-b941-4797-95a5-1b5ce713b9e1",
   "metadata": {},
   "outputs": [],
   "source": [
    "import random"
   ]
  }
 ],
 "metadata": {
  "kernelspec": {
   "display_name": "Python 3 (ipykernel)",
   "language": "python",
   "name": "python3"
  },
  "language_info": {
   "codemirror_mode": {
    "name": "ipython",
    "version": 3
   },
   "file_extension": ".py",
   "mimetype": "text/x-python",
   "name": "python",
   "nbconvert_exporter": "python",
   "pygments_lexer": "ipython3",
   "version": "3.12.5"
  },
  "widgets": {
   "application/vnd.jupyter.widget-state+json": {
    "state": {},
    "version_major": 2,
    "version_minor": 0
   }
  }
 },
 "nbformat": 4,
 "nbformat_minor": 5
}
